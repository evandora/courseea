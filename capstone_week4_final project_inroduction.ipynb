{
    "nbformat_minor": 1, 
    "cells": [
        {
            "source": "#  Introduction", 
            "cell_type": "markdown", 
            "metadata": {
                "collapsed": true
            }
        }, 
        {
            "source": "India (ISO: Bh\u0101rat), also known as the Republic of India (ISO: Bh\u0101rat Ga\u1e47ar\u0101jya) is a country in South Asia. It is the seventh-largest country by area, the second-most populous country, and the most populous democracy in the world.\nAccording to the International Monetary Fund (IMF), the Indian economy in 2017 was nominally worth USD2.611 trillion; it is the sixth-largest economy by market exchange rates, and is, at USD9.459 trillion, the third-largest by purchasing power parity, or PPP. With its average annual GDP growth rate of 5.8% over the past two decades, and reaching 6.1% during 2011\u201312, India is one of the world's fastest-growing economies. However, the country ranks 140th in the world in nominal GDP per capita and 129th in GDP per capita at PPP. Until 1991, all Indian governments followed protectionist policies that were influenced by socialist economics. Widespread state intervention and regulation largely walled the economy off from the outside world. An acute balance of payments crisis in 1991 forced the nation to liberalise its economy; since then it has slowly moved towards a free-market system by emphasising both foreign trade and direct investment inflows. India has been a member of WTO since 1 January 1995.\n\nWith this economic growth and development and also high population rate, India is very promising country for construction and sanitaryware product business. \n\nIn this project, I will investigate the best location opportunity for sanitary business in India and I choose one of the major city of India, Mumbai for researching. Mumbai is capital city of Maharastra and it is the most populous city in India with estimated population over 21 million as of 2016.It serves as an economic hub of India, contributing 10% of factory employment, 25% of industrial output, 33% of income tax collections, 60% of customs duty collections, 20% of central excise tax collections, 40% of India's foreign trade and \u20b940 billion (US$580 million) in corporate taxes. Along with the rest of India, Mumbai has witnessed an economic boom since the liberalisation of 1991, the finance boom in the mid-nineties and the IT, export, services and outsourcing boom in the 2000s. \n", 
            "cell_type": "markdown", 
            "metadata": {}
        }, 
        {
            "source": "# Goal of the project", 
            "cell_type": "markdown", 
            "metadata": {}
        }, 
        {
            "source": "the main aim of this project is investigate the business opportunites for sanitaryware business in Mumbai, India and find ideal location to set up office or show room in Mumbai. \nThis project will be leveraged foursquare data and machine learning segmentation and clustering.\nIn order to determine the location two location are searched from Foursquare data,\n1. location of sanitaryware business in Mumbai\n2. location of hotels in Mumbai\nhotels locations are chosen as both for place of attraction and also most of this sanitary products are contracted to hotel business so hotels are biggest projects for sanitaryware business.\n\nlater I will also check one of the top manufacturer of sanitaryware in the world, Vitra offices in the map and evaluate itsi strategic location according to developed concentration areas based on hotels and sanitaryware business areas.   ", 
            "cell_type": "markdown", 
            "metadata": {}
        }, 
        {
            "source": "", 
            "cell_type": "markdown", 
            "metadata": {}
        }, 
        {
            "source": "# Data", 
            "cell_type": "markdown", 
            "metadata": {}
        }, 
        {
            "source": "The data is obtained from Wikipedia for Mumbai district and then coordinations are obtained by geocoder.arcgis code. later I use Foursquare data for segmentation and clustering.\nThe dataframe has 17 Borough and 242 Area in Mumbai.Mumbai Borough has the highest number of areas with 146 number of areas. for sanitary business only 33 offices can be found due to data structure however \u0131 assume it is enough to locate the existing sanitary business areas concentration. ", 
            "cell_type": "markdown", 
            "metadata": {}
        }, 
        {
            "source": "# Target Group", 
            "cell_type": "markdown", 
            "metadata": {}
        }, 
        {
            "source": "Target group is all international and local sanitaryware business owners and manufacturers who would like to pursue a business in this top location Mumbai, India. this report is also specially\ncheck the location of Eczac\u0131bas\u0131 Vitra, the Turkish manufacturer, which is top manufacturer and expanded its business in India recently.", 
            "cell_type": "markdown", 
            "metadata": {}
        }, 
        {
            "source": "Methodology\n\nIn this firstly I will use Wiki to extract district data of Mumbai.\nlater I will obtain coordinates by using code,  g = geocoder.arcgis('{}, India'.format(row.Postcode)). I believe it is reliable and fast option for retrieving location data.\nLater I use pandas for establisihing dataframes.\nThe Foursquare API was then used to query each of the neighborhood for the keywords. \nThe resulting locations for each venue were tabulated and stored in a new dataframe and visualised using Folium.\nTo see concentration hierarchical clustering was developed for two data groups. Hierarchical clustering gave and advantage as it does not require to set cluster number initially. \nlater for better visualization center of clusters are obtained by calculating mean values of both groups and plotted on Folium map.\nLater I also searched for Vitra offices in Mumbai and located this office compared to this clusters.\n\n\n\n\n", 
            "cell_type": "markdown", 
            "metadata": {}
        }, 
        {
            "source": "# Results\n\nExpected outcome is that with clustering algorithm, a suitable locations for sanitaryware business can be located on the map thanks to foursquare data.\n\nThe dataframe has 17 Borough and 242 Area in Mumbai. \nA total of 33 sanitaryware offices and 6029 hotels were found after performing the query on Foursquare API around these neighborhoods.\ndue to limit on the number of sanitaryware office, only 3 cluster can be obtained. and concentration of this clusters are show on the map bu blue and red color palette. (blue: hotel, red:sanitary) later Vitra is showed as yellow clor.\naccording to map best place of concentration is Matunga West as it is highly populated both for sanitaryware business and hotel business.", 
            "cell_type": "markdown", 
            "metadata": {}
        }, 
        {
            "source": "# Conclusion\n optimal place to set up a sanitaryware in Mumbai that is in close proximity to hotel business areas and close to other competitors., the most suitable place for setting up a new business is in the neighborhood of Matunga West. Vitra India made also good choice for her offices.", 
            "cell_type": "markdown", 
            "metadata": {}
        }, 
        {
            "source": "", 
            "cell_type": "code", 
            "metadata": {}, 
            "outputs": [], 
            "execution_count": null
        }
    ], 
    "metadata": {
        "kernelspec": {
            "display_name": "Python 3.5", 
            "name": "python3", 
            "language": "python"
        }, 
        "language_info": {
            "mimetype": "text/x-python", 
            "nbconvert_exporter": "python", 
            "version": "3.5.5", 
            "name": "python", 
            "file_extension": ".py", 
            "pygments_lexer": "ipython3", 
            "codemirror_mode": {
                "version": 3, 
                "name": "ipython"
            }
        }
    }, 
    "nbformat": 4
}